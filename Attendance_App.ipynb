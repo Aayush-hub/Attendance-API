{
  "nbformat": 4,
  "nbformat_minor": 0,
  "metadata": {
    "colab": {
      "name": "BMIET Attendance App.ipynb",
      "provenance": []
    },
    "kernelspec": {
      "name": "python3",
      "display_name": "Python 3"
    },
    "widgets": {
      "application/vnd.jupyter.widget-state+json": {
        "560b5640adda4b99ae3820e447677aaa": {
          "model_module": "@jupyter-widgets/controls",
          "model_name": "HBoxModel",
          "state": {
            "_view_name": "HBoxView",
            "_dom_classes": [],
            "_model_name": "HBoxModel",
            "_view_module": "@jupyter-widgets/controls",
            "_model_module_version": "1.5.0",
            "_view_count": null,
            "_view_module_version": "1.5.0",
            "box_style": "",
            "layout": "IPY_MODEL_9c129534c9574a7eb02281dddbd3a0b8",
            "_model_module": "@jupyter-widgets/controls",
            "children": [
              "IPY_MODEL_05ee68c9935c439b95ce7ac8e7c1e973",
              "IPY_MODEL_be4d8c35e6ed42ee82653a636542b8bb"
            ]
          }
        },
        "9c129534c9574a7eb02281dddbd3a0b8": {
          "model_module": "@jupyter-widgets/base",
          "model_name": "LayoutModel",
          "state": {
            "_view_name": "LayoutView",
            "grid_template_rows": null,
            "right": null,
            "justify_content": null,
            "_view_module": "@jupyter-widgets/base",
            "overflow": null,
            "_model_module_version": "1.2.0",
            "_view_count": null,
            "flex_flow": null,
            "width": null,
            "min_width": null,
            "border": null,
            "align_items": null,
            "bottom": null,
            "_model_module": "@jupyter-widgets/base",
            "top": null,
            "grid_column": null,
            "overflow_y": null,
            "overflow_x": null,
            "grid_auto_flow": null,
            "grid_area": null,
            "grid_template_columns": null,
            "flex": null,
            "_model_name": "LayoutModel",
            "justify_items": null,
            "grid_row": null,
            "max_height": null,
            "align_content": null,
            "visibility": null,
            "align_self": null,
            "height": null,
            "min_height": null,
            "padding": null,
            "grid_auto_rows": null,
            "grid_gap": null,
            "max_width": null,
            "order": null,
            "_view_module_version": "1.2.0",
            "grid_template_areas": null,
            "object_position": null,
            "object_fit": null,
            "grid_auto_columns": null,
            "margin": null,
            "display": null,
            "left": null
          }
        },
        "05ee68c9935c439b95ce7ac8e7c1e973": {
          "model_module": "@jupyter-widgets/controls",
          "model_name": "IntProgressModel",
          "state": {
            "_view_name": "ProgressView",
            "style": "IPY_MODEL_22df1268a5d04319a68f8dbc8e84eacc",
            "_dom_classes": [],
            "description": "Calculating",
            "_model_name": "IntProgressModel",
            "bar_style": "success",
            "max": 8,
            "_view_module": "@jupyter-widgets/controls",
            "_model_module_version": "1.5.0",
            "value": 8,
            "_view_count": null,
            "_view_module_version": "1.5.0",
            "orientation": "horizontal",
            "min": 0,
            "description_tooltip": null,
            "_model_module": "@jupyter-widgets/controls",
            "layout": "IPY_MODEL_5f0b7ac285534f1f8a0ba131b835a59a"
          }
        },
        "be4d8c35e6ed42ee82653a636542b8bb": {
          "model_module": "@jupyter-widgets/controls",
          "model_name": "HTMLModel",
          "state": {
            "_view_name": "HTMLView",
            "style": "IPY_MODEL_e0e78d7e820d4296b30dfb83ea1117b3",
            "_dom_classes": [],
            "description": "",
            "_model_name": "HTMLModel",
            "placeholder": "​",
            "_view_module": "@jupyter-widgets/controls",
            "_model_module_version": "1.5.0",
            "value": "100% 8/8 [00:05&lt;00:00,  1.43it/s]",
            "_view_count": null,
            "_view_module_version": "1.5.0",
            "description_tooltip": null,
            "_model_module": "@jupyter-widgets/controls",
            "layout": "IPY_MODEL_0415187bf9a04972b6a674c9242326a8"
          }
        },
        "22df1268a5d04319a68f8dbc8e84eacc": {
          "model_module": "@jupyter-widgets/controls",
          "model_name": "ProgressStyleModel",
          "state": {
            "_view_name": "StyleView",
            "_model_name": "ProgressStyleModel",
            "description_width": "initial",
            "_view_module": "@jupyter-widgets/base",
            "_model_module_version": "1.5.0",
            "_view_count": null,
            "_view_module_version": "1.2.0",
            "bar_color": null,
            "_model_module": "@jupyter-widgets/controls"
          }
        },
        "5f0b7ac285534f1f8a0ba131b835a59a": {
          "model_module": "@jupyter-widgets/base",
          "model_name": "LayoutModel",
          "state": {
            "_view_name": "LayoutView",
            "grid_template_rows": null,
            "right": null,
            "justify_content": null,
            "_view_module": "@jupyter-widgets/base",
            "overflow": null,
            "_model_module_version": "1.2.0",
            "_view_count": null,
            "flex_flow": null,
            "width": null,
            "min_width": null,
            "border": null,
            "align_items": null,
            "bottom": null,
            "_model_module": "@jupyter-widgets/base",
            "top": null,
            "grid_column": null,
            "overflow_y": null,
            "overflow_x": null,
            "grid_auto_flow": null,
            "grid_area": null,
            "grid_template_columns": null,
            "flex": null,
            "_model_name": "LayoutModel",
            "justify_items": null,
            "grid_row": null,
            "max_height": null,
            "align_content": null,
            "visibility": null,
            "align_self": null,
            "height": null,
            "min_height": null,
            "padding": null,
            "grid_auto_rows": null,
            "grid_gap": null,
            "max_width": null,
            "order": null,
            "_view_module_version": "1.2.0",
            "grid_template_areas": null,
            "object_position": null,
            "object_fit": null,
            "grid_auto_columns": null,
            "margin": null,
            "display": null,
            "left": null
          }
        },
        "e0e78d7e820d4296b30dfb83ea1117b3": {
          "model_module": "@jupyter-widgets/controls",
          "model_name": "DescriptionStyleModel",
          "state": {
            "_view_name": "StyleView",
            "_model_name": "DescriptionStyleModel",
            "description_width": "",
            "_view_module": "@jupyter-widgets/base",
            "_model_module_version": "1.5.0",
            "_view_count": null,
            "_view_module_version": "1.2.0",
            "_model_module": "@jupyter-widgets/controls"
          }
        },
        "0415187bf9a04972b6a674c9242326a8": {
          "model_module": "@jupyter-widgets/base",
          "model_name": "LayoutModel",
          "state": {
            "_view_name": "LayoutView",
            "grid_template_rows": null,
            "right": null,
            "justify_content": null,
            "_view_module": "@jupyter-widgets/base",
            "overflow": null,
            "_model_module_version": "1.2.0",
            "_view_count": null,
            "flex_flow": null,
            "width": null,
            "min_width": null,
            "border": null,
            "align_items": null,
            "bottom": null,
            "_model_module": "@jupyter-widgets/base",
            "top": null,
            "grid_column": null,
            "overflow_y": null,
            "overflow_x": null,
            "grid_auto_flow": null,
            "grid_area": null,
            "grid_template_columns": null,
            "flex": null,
            "_model_name": "LayoutModel",
            "justify_items": null,
            "grid_row": null,
            "max_height": null,
            "align_content": null,
            "visibility": null,
            "align_self": null,
            "height": null,
            "min_height": null,
            "padding": null,
            "grid_auto_rows": null,
            "grid_gap": null,
            "max_width": null,
            "order": null,
            "_view_module_version": "1.2.0",
            "grid_template_areas": null,
            "object_position": null,
            "object_fit": null,
            "grid_auto_columns": null,
            "margin": null,
            "display": null,
            "left": null
          }
        }
      }
    }
  },
  "cells": [
    {
      "cell_type": "code",
      "metadata": {
        "id": "WXzLwrGVYbjd",
        "colab_type": "code",
        "outputId": "e66935a3-66ad-4c8f-c189-b671a1b16382",
        "colab": {
          "base_uri": "https://localhost:8080/",
          "height": 141,
          "referenced_widgets": [
            "560b5640adda4b99ae3820e447677aaa",
            "9c129534c9574a7eb02281dddbd3a0b8",
            "05ee68c9935c439b95ce7ac8e7c1e973",
            "be4d8c35e6ed42ee82653a636542b8bb",
            "22df1268a5d04319a68f8dbc8e84eacc",
            "5f0b7ac285534f1f8a0ba131b835a59a",
            "e0e78d7e820d4296b30dfb83ea1117b3",
            "0415187bf9a04972b6a674c9242326a8"
          ]
        }
      },
      "source": [
        "import requests\n",
        "import re \n",
        "from bs4 import BeautifulSoup\n",
        "import time\n",
        "from tqdm import tqdm_notebook as tqdm\n",
        "\n",
        "username = input(\"Enter Username: \")\n",
        "password = input(\"Enter Password: \")\n",
        "\n",
        "#Add your \n",
        "header = {\n",
        "    'User-Agent':'Mozilla/5.0 (Windows NT 10.0; Win64; x64; rv:73.0) Gecko/20100101 Firefox/73.0'\n",
        "}\n",
        "\n",
        "login_data = {\n",
        "    'username': username,\n",
        "    'password': password\n",
        "}\n",
        "\n",
        "with requests.Session() as s:\n",
        "    url = \"http://app.bmiet.net/student/login\"\n",
        "    r = s.get(url, headers=header)\n",
        "    soup = BeautifulSoup(r.content, 'html.parser')\n",
        "    login_data['_token'] = soup.find('input', {'name': '_token'})['value']\n",
        "    post = s.post('http://app.bmiet.net/student/student-login',login_data, headers=header)\n",
        "\n",
        "def link_finder():\n",
        "    dat = s.get('http://app.bmiet.net/student/attendance/view',headers=header)\n",
        "    soup = BeautifulSoup(dat.content, 'html.parser')\n",
        "    links = [a['href'] for a in soup.find_all('a', href=True)]\n",
        "    return links\n",
        "\n",
        "def pagecal(links):\n",
        "    x = True \n",
        "    i = 2\n",
        "    while x:\n",
        "        val = 'http://app.bmiet.net/student/attendance/view?page='+ str(i)\n",
        "        if val in links: i += 1\n",
        "        else: break\n",
        "    return i\n",
        "\n",
        "Tot_absent = 0\n",
        "Tot_present = 0\n",
        "links = link_finder()\n",
        "num = pagecal(links)\n",
        "for j in tqdm(range(1,num),desc = 'Calculating'):\n",
        "    info = s.get('http://app.bmiet.net/student/attendance/view?page='+str(j), headers=header)\n",
        "    res = re.findall(r'\\w+', str(info.content))\n",
        "    Tot_present += res.count('Present')\n",
        "    Tot_absent += res.count('Absent')\n",
        "print(' Total Present:',Tot_present,'| Total Absent:',Tot_absent,'\\n','Total Attendance:',round((Tot_present/(Tot_present+Tot_absent))*100,2),'%')"
      ],
      "execution_count": 0,
      "outputs": [
        {
          "output_type": "stream",
          "text": [
            "Enter Username: bmiet3044\n",
            "Enter Password: newpass\n"
          ],
          "name": "stdout"
        },
        {
          "output_type": "display_data",
          "data": {
            "application/vnd.jupyter.widget-view+json": {
              "model_id": "560b5640adda4b99ae3820e447677aaa",
              "version_minor": 0,
              "version_major": 2
            },
            "text/plain": [
              "HBox(children=(IntProgress(value=0, description='Calculating', max=8, style=ProgressStyle(description_width='i…"
            ]
          },
          "metadata": {
            "tags": []
          }
        },
        {
          "output_type": "stream",
          "text": [
            "\n",
            " Total Present: 107 | Total Absent: 48 \n",
            " Total Attendance: 69.03 %\n"
          ],
          "name": "stdout"
        }
      ]
    }
  ]
}